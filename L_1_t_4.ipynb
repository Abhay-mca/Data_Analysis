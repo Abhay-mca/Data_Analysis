{
  "nbformat": 4,
  "nbformat_minor": 0,
  "metadata": {
    "colab": {
      "provenance": [],
      "authorship_tag": "ABX9TyNvJzx+i7WovLBzwxaWhrhL",
      "include_colab_link": true
    },
    "kernelspec": {
      "name": "python3",
      "display_name": "Python 3"
    },
    "language_info": {
      "name": "python"
    }
  },
  "cells": [
    {
      "cell_type": "markdown",
      "metadata": {
        "id": "view-in-github",
        "colab_type": "text"
      },
      "source": [
        "<a href=\"https://colab.research.google.com/github/Abhay-mca/Data_Analysis/blob/main/L_1_t_4.ipynb\" target=\"_parent\"><img src=\"https://colab.research.google.com/assets/colab-badge.svg\" alt=\"Open In Colab\"/></a>"
      ]
    },
    {
      "cell_type": "code",
      "execution_count": 1,
      "metadata": {
        "id": "_S7JjdH0ECXd"
      },
      "outputs": [],
      "source": [
        "import pandas as pd\n",
        "\n",
        "url = \"https://raw.githubusercontent.com/Abhay-mca/Data_Analysis/main/Dataset%20.csv\"\n",
        "df = pd.read_csv(url)"
      ]
    },
    {
      "cell_type": "code",
      "source": [
        "df = df.dropna(subset=[\"Has Online delivery\", \"Aggregate rating\"])"
      ],
      "metadata": {
        "id": "Dif38gm8ETji"
      },
      "execution_count": 2,
      "outputs": []
    },
    {
      "cell_type": "code",
      "source": [
        "df[\"Has Online delivery\"] = df[\"Has Online delivery\"].astype(str).str.strip().str.lower()\n",
        "df[\"OnlineDelivery\"] = df[\"Has Online delivery\"].apply(lambda x: 1 if x == \"yes\" else 0)"
      ],
      "metadata": {
        "id": "Jk4o-Q3TEaU8"
      },
      "execution_count": 3,
      "outputs": []
    },
    {
      "cell_type": "code",
      "source": [
        "total_restaurants = df.shape[0]\n",
        "online_delivery_count = df[\"OnlineDelivery\"].sum()\n",
        "online_delivery_percentage = (online_delivery_count / total_restaurants) * 10"
      ],
      "metadata": {
        "id": "jzg9xJmCEkOQ"
      },
      "execution_count": 4,
      "outputs": []
    },
    {
      "cell_type": "code",
      "source": [
        "print(f\"Percentage of restaurants offering online delivery: {online_delivery_percentage:.2f}%\")"
      ],
      "metadata": {
        "colab": {
          "base_uri": "https://localhost:8080/"
        },
        "id": "tsxQgMXQEmNe",
        "outputId": "cbc4ee4a-e9cf-4417-c2f3-6b75e039fa72"
      },
      "execution_count": 5,
      "outputs": [
        {
          "output_type": "stream",
          "name": "stdout",
          "text": [
            "Percentage of restaurants offering online delivery: 2.57%\n"
          ]
        }
      ]
    },
    {
      "cell_type": "code",
      "source": [
        "with_online = df[df[\"OnlineDelivery\"] == 1][\"Aggregate rating\"].mean()\n",
        "without_online = df[df[\"OnlineDelivery\"] == 0][\"Aggregate rating\"].mean()"
      ],
      "metadata": {
        "id": "BIE_LwcLEr0h"
      },
      "execution_count": 6,
      "outputs": []
    },
    {
      "cell_type": "code",
      "source": [
        "print(f\"Average rating with online delivery: {with_online:.2f}\")\n",
        "print(f\"Average rating without online delivery: {without_online:.2f}\")"
      ],
      "metadata": {
        "colab": {
          "base_uri": "https://localhost:8080/"
        },
        "id": "rt-pZm4_ExAx",
        "outputId": "86c9e74c-bff3-499f-af31-46e6868c3837"
      },
      "execution_count": 7,
      "outputs": [
        {
          "output_type": "stream",
          "name": "stdout",
          "text": [
            "Average rating with online delivery: 3.25\n",
            "Average rating without online delivery: 2.47\n"
          ]
        }
      ]
    }
  ]
}