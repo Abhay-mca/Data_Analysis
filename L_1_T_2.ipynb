{
  "nbformat": 4,
  "nbformat_minor": 0,
  "metadata": {
    "colab": {
      "provenance": [],
      "authorship_tag": "ABX9TyNVJB6V/T4cRDtpvRSiKMY+",
      "include_colab_link": true
    },
    "kernelspec": {
      "name": "python3",
      "display_name": "Python 3"
    },
    "language_info": {
      "name": "python"
    }
  },
  "cells": [
    {
      "cell_type": "markdown",
      "metadata": {
        "id": "view-in-github",
        "colab_type": "text"
      },
      "source": [
        "<a href=\"https://colab.research.google.com/github/Abhay-mca/Data_Analysis/blob/main/L_1_T_2.ipynb\" target=\"_parent\"><img src=\"https://colab.research.google.com/assets/colab-badge.svg\" alt=\"Open In Colab\"/></a>"
      ]
    },
    {
      "cell_type": "code",
      "execution_count": 5,
      "metadata": {
        "id": "vjHQDxvmAGu_"
      },
      "outputs": [],
      "source": [
        "import pandas as pd\n",
        "\n",
        "url = \"https://raw.githubusercontent.com/Abhay-mca/Data_Analysis/main/Dataset%20.csv\"\n",
        "df = pd.read_csv(url)"
      ]
    },
    {
      "cell_type": "code",
      "source": [
        "city_counts = df[\"City\"].value_counts()\n",
        "most_restaurants_city = city_counts.idxmax()\n",
        "most_restaurants_count = city_counts.max()\n",
        "print(f\"City with the most restaurants: {most_restaurants_city} ({most_restaurants_count} restaurants)\")\n"
      ],
      "metadata": {
        "colab": {
          "base_uri": "https://localhost:8080/"
        },
        "id": "5MT4nIWAA3em",
        "outputId": "949c8b50-8c6a-42ba-e732-22f2d3ac7da8"
      },
      "execution_count": 6,
      "outputs": [
        {
          "output_type": "stream",
          "name": "stdout",
          "text": [
            "City with the most restaurants: New Delhi (5473 restaurants)\n"
          ]
        }
      ]
    },
    {
      "cell_type": "code",
      "source": [
        "df_cleaned = df.dropna(subset=[\"Aggregate rating\"])"
      ],
      "metadata": {
        "id": "gLcTM3NJBDNj"
      },
      "execution_count": 7,
      "outputs": []
    },
    {
      "cell_type": "code",
      "source": [
        "avg_ratings = df_cleaned.groupby(\"City\")[\"Aggregate rating\"].mean().round(2)"
      ],
      "metadata": {
        "id": "H2sr7bmOCg25"
      },
      "execution_count": 8,
      "outputs": []
    },
    {
      "cell_type": "code",
      "source": [
        "highest_avg_rating_city = avg_ratings.idxmax()\n",
        "highest_avg_rating = avg_ratings.max()"
      ],
      "metadata": {
        "id": "AuBPhEFXC9OQ"
      },
      "execution_count": 9,
      "outputs": []
    },
    {
      "cell_type": "code",
      "source": [
        "print(\"\\nAverage rating per city (top 5 shown):\")\n",
        "print(avg_ratings.sort_values(ascending=False).head())\n",
        "\n",
        "print(f\"\\nCity with the highest average rating: {highest_avg_rating_city} ({highest_avg_rating})\")"
      ],
      "metadata": {
        "colab": {
          "base_uri": "https://localhost:8080/"
        },
        "id": "46TN_IBZC_jD",
        "outputId": "92ddd617-0368-4aa3-c6b1-3969fa320d89"
      },
      "execution_count": 10,
      "outputs": [
        {
          "output_type": "stream",
          "name": "stdout",
          "text": [
            "\n",
            "Average rating per city (top 5 shown):\n",
            "City\n",
            "Inner City          4.90\n",
            "Quezon City         4.80\n",
            "Makati City         4.65\n",
            "Pasig City          4.63\n",
            "Mandaluyong City    4.62\n",
            "Name: Aggregate rating, dtype: float64\n",
            "\n",
            "City with the highest average rating: Inner City (4.9)\n"
          ]
        }
      ]
    }
  ]
}