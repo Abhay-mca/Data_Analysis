{
  "nbformat": 4,
  "nbformat_minor": 0,
  "metadata": {
    "colab": {
      "provenance": [],
      "authorship_tag": "ABX9TyMZowqkuqBzfXsYc8hI1kyz",
      "include_colab_link": true
    },
    "kernelspec": {
      "name": "python3",
      "display_name": "Python 3"
    },
    "language_info": {
      "name": "python"
    }
  },
  "cells": [
    {
      "cell_type": "markdown",
      "metadata": {
        "id": "view-in-github",
        "colab_type": "text"
      },
      "source": [
        "<a href=\"https://colab.research.google.com/github/Abhay-mca/Data_Analysis/blob/main/L1_T_1Top__Cuisines.ipynb\" target=\"_parent\"><img src=\"https://colab.research.google.com/assets/colab-badge.svg\" alt=\"Open In Colab\"/></a>"
      ]
    },
    {
      "cell_type": "code",
      "execution_count": 1,
      "metadata": {
        "id": "7eTfvjR6IsSl"
      },
      "outputs": [],
      "source": [
        "import pandas as pd\n",
        "url = \"https://raw.githubusercontent.com/Abhay-mca/Data_Analysis/refs/heads/main/Dataset%20.csv\"\n",
        "\n",
        "df = pd.read_csv(url)\n",
        "\n",
        "df = df.dropna(subset=[\"Cuisines\"]).copy()"
      ]
    },
    {
      "cell_type": "code",
      "source": [
        "df[\"Cuisine_List\"] = df[\"Cuisines\"].str.split(\",\")"
      ],
      "metadata": {
        "id": "DkEuRbkb-SPd"
      },
      "execution_count": 2,
      "outputs": []
    },
    {
      "cell_type": "code",
      "source": [
        "exploded = df.explode(\"Cuisine_List\")"
      ],
      "metadata": {
        "id": "noz3l5Zm-coT"
      },
      "execution_count": 3,
      "outputs": []
    },
    {
      "cell_type": "code",
      "source": [
        "exploded[\"Cuisine_List\"] = exploded[\"Cuisine_List\"].str.strip()"
      ],
      "metadata": {
        "id": "wvbGhYWu-hj7"
      },
      "execution_count": 4,
      "outputs": []
    },
    {
      "cell_type": "code",
      "source": [
        "top_cuisines = exploded[\"Cuisine_List\"].value_counts().head(3)"
      ],
      "metadata": {
        "id": "IrjsIWsp-tAE"
      },
      "execution_count": 5,
      "outputs": []
    },
    {
      "cell_type": "code",
      "source": [
        "total_restaurants = df.shape[0]\n",
        "percentages = {}"
      ],
      "metadata": {
        "id": "Emipr6Fj-wyC"
      },
      "execution_count": 6,
      "outputs": []
    },
    {
      "cell_type": "code",
      "source": [
        "for cuisine in top_cuisines.index:\n",
        "    count = df[df[\"Cuisines\"].str.contains(cuisine, case=False, na=False)].shape[0]\n",
        "    percentages[cuisine] = round((count / total_restaurants) * 100, 2)"
      ],
      "metadata": {
        "id": "KhaynH8A-4dc"
      },
      "execution_count": 7,
      "outputs": []
    },
    {
      "cell_type": "code",
      "source": [
        "print(\"Top 3 Cuisines and their percentages:\")\n",
        "for cuisine, percent in percentages.items():\n",
        "    print(f\"{cuisine}: {percent}% of restaurants\")"
      ],
      "metadata": {
        "colab": {
          "base_uri": "https://localhost:8080/"
        },
        "id": "Yq9Y51uSNf4U",
        "outputId": "def32086-0df7-4936-d326-e7d66012c351"
      },
      "execution_count": 8,
      "outputs": [
        {
          "output_type": "stream",
          "name": "stdout",
          "text": [
            "Top 3 Cuisines and their percentages:\n",
            "North Indian: 41.5% of restaurants\n",
            "Chinese: 28.64% of restaurants\n",
            "Fast Food: 20.82% of restaurants\n"
          ]
        }
      ]
    },
    {
      "cell_type": "code",
      "source": [],
      "metadata": {
        "id": "P7KV_9ojOFAi"
      },
      "execution_count": null,
      "outputs": []
    }
  ]
}