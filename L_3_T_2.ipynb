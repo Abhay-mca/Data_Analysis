{
  "nbformat": 4,
  "nbformat_minor": 0,
  "metadata": {
    "colab": {
      "provenance": [],
      "authorship_tag": "ABX9TyMKuqvLLnPtH4LAFT9/Djr/",
      "include_colab_link": true
    },
    "kernelspec": {
      "name": "python3",
      "display_name": "Python 3"
    },
    "language_info": {
      "name": "python"
    }
  },
  "cells": [
    {
      "cell_type": "markdown",
      "metadata": {
        "id": "view-in-github",
        "colab_type": "text"
      },
      "source": [
        "<a href=\"https://colab.research.google.com/github/Abhay-mca/Data_Analysis/blob/main/L_3_T_2.ipynb\" target=\"_parent\"><img src=\"https://colab.research.google.com/assets/colab-badge.svg\" alt=\"Open In Colab\"/></a>"
      ]
    },
    {
      "cell_type": "code",
      "execution_count": 1,
      "metadata": {
        "colab": {
          "base_uri": "https://localhost:8080/"
        },
        "id": "aktOPtvyi-Mg",
        "outputId": "e1cc387c-6ac2-4f0f-a9d6-7ce7d3eb7964"
      },
      "outputs": [
        {
          "output_type": "stream",
          "name": "stdout",
          "text": [
            "Index(['Restaurant ID', 'Restaurant Name', 'Country Code', 'City', 'Address',\n",
            "       'Locality', 'Locality Verbose', 'Longitude', 'Latitude', 'Cuisines',\n",
            "       'Average Cost for two', 'Currency', 'Has Table booking',\n",
            "       'Has Online delivery', 'Is delivering now', 'Switch to order menu',\n",
            "       'Price range', 'Aggregate rating', 'Rating color', 'Rating text',\n",
            "       'Votes'],\n",
            "      dtype='object')\n"
          ]
        }
      ],
      "source": [
        "import pandas as pd\n",
        "url = \"https://raw.githubusercontent.com/Abhay-mca/Data_Analysis/main/Dataset%20.csv\"\n",
        "df = pd.read_csv(url)\n",
        "print(df.columns)\n"
      ]
    },
    {
      "cell_type": "code",
      "source": [
        "max_votes_row = df.loc[df['Votes'].idxmax()]\n",
        "print(\"\\n Restaurant with Highest Votes:\")\n",
        "print(f\"{max_votes_row['Restaurant Name']} ({max_votes_row['Votes']} votes, Rating: {max_votes_row['Aggregate rating']})\")\n",
        "\n",
        "min_votes_row = df[df['Votes'] > 0].loc[df[df['Votes'] > 0]['Votes'].idxmin()]\n",
        "print(\"\\n Restaurant with Lowest Non-Zero Votes:\")\n",
        "print(f\"{min_votes_row['Restaurant Name']} ({min_votes_row['Votes']} votes, Rating: {min_votes_row['Aggregate rating']})\")\n"
      ],
      "metadata": {
        "colab": {
          "base_uri": "https://localhost:8080/"
        },
        "id": "TYyG2Qa-jQVj",
        "outputId": "9ffe1602-21db-457a-c213-0af2cbbc0537"
      },
      "execution_count": 3,
      "outputs": [
        {
          "output_type": "stream",
          "name": "stdout",
          "text": [
            "\n",
            " Restaurant with Highest Votes:\n",
            "Toit (10934 votes, Rating: 4.8)\n",
            "\n",
            " Restaurant with Lowest Non-Zero Votes:\n",
            "Quiosque Chopp Brahma (1 votes, Rating: 0.0)\n"
          ]
        }
      ]
    },
    {
      "cell_type": "code",
      "source": [
        "df_clean = df.dropna(subset=['Votes', 'Aggregate rating'])\n",
        "correlation = df_clean['Votes'].corr(df_clean['Aggregate rating'])\n",
        "print(f\"\\n Correlation between Votes and Rating: {correlation:.2f}\")"
      ],
      "metadata": {
        "colab": {
          "base_uri": "https://localhost:8080/"
        },
        "id": "8ux-yvhdjjRb",
        "outputId": "ef554f97-73e9-4c2a-ed15-f8eb069e23ce"
      },
      "execution_count": 4,
      "outputs": [
        {
          "output_type": "stream",
          "name": "stdout",
          "text": [
            "\n",
            " Correlation between Votes and Rating: 0.31\n"
          ]
        }
      ]
    }
  ]
}